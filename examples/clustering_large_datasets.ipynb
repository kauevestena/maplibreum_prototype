{
 "cells": [
  {
   "cell_type": "markdown",
   "metadata": {},
   "source": [
    "# Marker Clustering with Large Datasets\n",
    "\n",
    "This notebook demonstrates MapLibreum's marker clustering capabilities with large datasets.\n",
    "\n",
    "## Overview\n",
    "\n",
    "MapLibreum can efficiently cluster tens of thousands (or even hundreds of thousands) of markers,\n",
    "making it practical to visualize large datasets on interactive maps.\n"
   ]
  },
  {
   "cell_type": "code",
   "execution_count": null,
   "metadata": {},
   "outputs": [],
   "source": [
    "import random\n",
    "from maplibreum import Map\n",
    "from maplibreum.cluster import MarkerCluster\n",
    "from maplibreum.core import Marker"
   ]
  },
  {
   "cell_type": "markdown",
   "metadata": {},
   "source": [
    "## Example 1: Clustering 10,000 Random Points\n",
    "\n",
    "Let's start with a manageable dataset of 10,000 random points across the United States."
   ]
  },
  {
   "cell_type": "code",
   "execution_count": null,
   "metadata": {},
   "outputs": [],
   "source": [
    "# Create map centered on the US\n",
    "m1 = Map(center=[-98, 39], zoom=4)\n",
    "\n",
    "# Create a marker cluster\n",
    "cluster1 = MarkerCluster(\n",
    "    name=\"random_10k\",\n",
    "    radius=50,\n",
    "    max_zoom=14\n",
    ")\n",
    "\n",
    "# Add 10,000 random markers\n",
    "for i in range(10_000):\n",
    "    lng = random.uniform(-125, -65)  # US longitude range\n",
    "    lat = random.uniform(25, 50)     # US latitude range\n",
    "    marker = Marker(coordinates=[lng, lat], color=\"#007cbf\")\n",
    "    cluster1.add_marker(marker)\n",
    "\n",
    "cluster1.add_to(m1)\n",
    "m1"
   ]
  },
  {
   "cell_type": "markdown",
   "metadata": {},
   "source": [
    "## Example 2: Using GeoJSON for Larger Datasets\n",
    "\n",
    "For larger datasets, it's more efficient to use GeoJSON directly with the  method.\n",
    "\n",
    "Let's create a map with 50,000 points."
   ]
  },
  {
   "cell_type": "code",
   "execution_count": null,
   "metadata": {},
   "outputs": [],
   "source": [
    "# Generate GeoJSON data with 50,000 points\n",
    "geojson_data = {\n",
    "    \"type\": \"FeatureCollection\",\n",
    "    \"features\": [\n",
    "        {\n",
    "            \"type\": \"Feature\",\n",
    "            \"geometry\": {\n",
    "                \"type\": \"Point\",\n",
    "                \"coordinates\": [\n",
    "                    random.uniform(-125, -65),\n",
    "                    random.uniform(25, 50)\n",
    "                ]\n",
    "            },\n",
    "            \"properties\": {\"id\": i, \"name\": f\"Point {i}\"}\n",
    "        }\n",
    "        for i in range(50_000)\n",
    "    ]\n",
    "}\n",
    "\n",
    "# Create map with clustered GeoJSON\n",
    "m2 = Map(center=[-98, 39], zoom=4)\n",
    "m2.add_clustered_geojson(\n",
    "    geojson_data,\n",
    "    radius=60,\n",
    "    max_zoom=12\n",
    ")\n",
    "m2"
   ]
  },
  {
   "cell_type": "markdown",
   "metadata": {},
   "source": [
    "## Example 3: Tuning Clustering Parameters\n",
    "\n",
    "You can adjust the clustering behavior using  and  parameters:\n",
    "\n",
    "- **cluster_radius**: Controls how tightly points are grouped (default: 50 pixels)\n",
    "- **cluster_max_zoom**: Maximum zoom level at which to cluster (default: 14)\n",
    "\n",
    "Let's compare different settings with the same dataset."
   ]
  },
  {
   "cell_type": "code",
   "execution_count": null,
   "metadata": {},
   "outputs": [],
   "source": [
    "# Generate a common dataset\n",
    "test_data = {\n",
    "    \"type\": \"FeatureCollection\",\n",
    "    \"features\": [\n",
    "        {\n",
    "            \"type\": \"Feature\",\n",
    "            \"geometry\": {\n",
    "                \"type\": \"Point\",\n",
    "                \"coordinates\": [\n",
    "                    random.uniform(-125, -65),\n",
    "                    random.uniform(25, 50)\n",
    "                ]\n",
    "            },\n",
    "            \"properties\": {\"id\": i}\n",
    "        }\n",
    "        for i in range(20_000)\n",
    "    ]\n",
    "}\n",
    "\n",
    "# Map with tight clustering (smaller radius)\n",
    "m3a = Map(center=[-98, 39], zoom=4)\n",
    "m3a.add_clustered_geojson(test_data, radius=30, max_zoom=14)\n",
    "print(\"Map with tight clustering (radius=30):\")\n",
    "m3a"
   ]
  },
  {
   "cell_type": "code",
   "execution_count": null,
   "metadata": {},
   "outputs": [],
   "source": [
    "# Map with loose clustering (larger radius)\n",
    "m3b = Map(center=[-98, 39], zoom=4)\n",
    "m3b.add_clustered_geojson(test_data, radius=80, max_zoom=14)\n",
    "print(\"Map with loose clustering (radius=80):\")\n",
    "m3b"
   ]
  },
  {
   "cell_type": "markdown",
   "metadata": {},
   "source": [
    "## Performance Notes\n",
    "\n",
    "Based on benchmarking (see  for details):\n",
    "\n",
    "- **10,000 points**: ~0.008s (instant)\n",
    "- **50,000 points**: ~0.038s (nearly instant)\n",
    "- **100,000 points**: ~0.078s (very fast)\n",
    "- **200,000 points**: ~0.153s (fast)\n",
    "- **500,000 points**: ~0.380s (good)\n",
    "\n",
    "MapLibreum can handle very large datasets efficiently thanks to MapLibre GL JS's optimized clustering engine.\n",
    "\n",
    "## Tips for Working with Large Datasets\n",
    "\n",
    "1. **Use GeoJSON format**: More efficient than adding individual markers\n",
    "2. **Adjust cluster_radius**: Larger values create fewer clusters (better performance)\n",
    "3. **Set cluster_max_zoom**: Lower values cluster at higher zoom levels (better performance)\n",
    "4. **Consider server-side clustering**: For datasets over 1 million points\n",
    "\n",
    "## Saving the Map\n",
    "\n",
    "You can save any of these maps to an HTML file:"
   ]
  },
  {
   "cell_type": "code",
   "execution_count": null,
   "metadata": {},
   "outputs": [],
   "source": [
    "# Save the 50k point map\n",
    "m2.save(\"large_cluster_map.html\")\n",
    "print(\"Map saved to large_cluster_map.html\")"
   ]
  }
 ],
 "metadata": {
  "kernelspec": {
   "display_name": "Python 3",
   "language": "python",
   "name": "python3"
  },
  "language_info": {
   "codemirror_mode": {
    "name": "ipython",
    "version": 3
   },
   "file_extension": ".py",
   "mimetype": "text/x-python",
   "name": "python",
   "nbconvert_exporter": "python",
   "pygments_lexer": "ipython3",
   "version": "3.8.0"
  }
 },
 "nbformat": 4,
 "nbformat_minor": 4
}