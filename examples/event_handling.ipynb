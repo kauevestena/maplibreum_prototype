{
 "cells": [
  {
   "cell_type": "markdown",
   "metadata": {},
   "source": [
    "# Event handling\n",
    "Click or move the map to trigger callbacks."
   ]
  },
  {
   "cell_type": "code",
   "execution_count": null,
   "metadata": {},
   "outputs": [],
   "source": [
    "from maplibreum import Map\n",
    "\n",
    "def handle_click(data):\n",
    "    print('Clicked at', data['lngLat'])\n",
    "\n",
    "def handle_move(data):\n",
    "    print('Map center', data['center'])\n",
    "\n",
    "m = Map()\n",
    "m.on_click(handle_click)\n",
    "m.on_move(handle_move)\n",
    "m"
   ]
  }
 ],
 "metadata": {
  "kernelspec": {
   "display_name": "Python 3",
   "language": "python",
   "name": "python3"
  },
  "language_info": {
   "name": "python",
   "version": "3"
  }
 },
 "nbformat": 4,
 "nbformat_minor": 5
}
