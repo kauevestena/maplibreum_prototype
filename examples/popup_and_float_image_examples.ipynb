{
 "cells": [
  {
   "cell_type": "markdown",
   "metadata": {},
   "source": [
    "# Popup Templating & Floating Image Overlays\n",
    "\n",
    "This notebook demonstrates advanced features in MapLibreum:\n",
    "1. **Popup Templating** - Dynamic popups using Jinja2 templates\n",
    "2. **Floating Image Overlays** - Add logos, legends, or decorative images that stay fixed on the map"
   ]
  },
  {
   "cell_type": "code",
   "execution_count": null,
   "metadata": {},
   "outputs": [],
   "source": [
    "from maplibreum import Map, Popup"
   ]
  },
  {
   "cell_type": "markdown",
   "metadata": {},
   "source": [
    "## 1. Basic Popup Templating\n",
    "\n",
    "Popup templates use Jinja2 syntax to dynamically generate content. This is especially useful when you want to format data or include conditional logic in your popups."
   ]
  },
  {
   "cell_type": "code",
   "execution_count": null,
   "metadata": {},
   "outputs": [],
   "source": [
    "# Create a map centered on San Francisco\n",
    "m = Map(center=[-122.4194, 37.7749], zoom=12)\n",
    "\n",
    "# Add a popup with Jinja2 template\n",
    "m.add_popup(\n",
    "    template=\"<h3>{{ city }}</h3><p>Population: {{ population }}</p>\",\n",
    "    coordinates=[-122.4194, 37.7749],\n",
    "    context={\n",
    "        \"city\": \"San Francisco\",\n",
    "        \"population\": \"874,961\"\n",
    "    }\n",
    ")\n",
    "\n",
    "m"
   ]
  },
  {
   "cell_type": "markdown",
   "metadata": {},
   "source": [
    "## 2. Advanced Popup Template with HTML Escaping\n",
    "\n",
    "MapLibreum automatically escapes HTML in templates to prevent XSS attacks. This ensures that user-provided data is safely rendered."
   ]
  },
  {
   "cell_type": "code",
   "execution_count": null,
   "metadata": {},
   "outputs": [],
   "source": [
    "m2 = Map(center=[-73.9857, 40.7484], zoom=13)\n",
    "\n",
    "# Template with conditional logic and HTML escaping\n",
    "template = \"\"\"\n",
    "<div style=\"font-family: Arial, sans-serif;\">\n",
    "    <h3 style=\"color: #0066cc;\">{{ name }}</h3>\n",
    "    <p><strong>Type:</strong> {{ poi_type }}</p>\n",
    "    {% if rating %}\n",
    "        <p><strong>Rating:</strong> {{ rating }} \u2b50</p>\n",
    "    {% endif %}\n",
    "    {% if description %}\n",
    "        <p><em>{{ description }}</em></p>\n",
    "    {% endif %}\n",
    "</div>\n",
    "\"\"\"\n",
    "\n",
    "# Add multiple points of interest\n",
    "pois = [\n",
    "    {\n",
    "        \"coords\": [-73.9857, 40.7484],\n",
    "        \"data\": {\n",
    "            \"name\": \"Times Square\",\n",
    "            \"poi_type\": \"Landmark\",\n",
    "            \"rating\": 4.5,\n",
    "            \"description\": \"Famous intersection and tourist destination\"\n",
    "        }\n",
    "    },\n",
    "    {\n",
    "        \"coords\": [-73.9654, 40.7829],\n",
    "        \"data\": {\n",
    "            \"name\": \"Central Park\",\n",
    "            \"poi_type\": \"Park\",\n",
    "            \"rating\": 4.8,\n",
    "            \"description\": \"Urban park in Manhattan\"\n",
    "        }\n",
    "    },\n",
    "    {\n",
    "        \"coords\": [-74.0445, 40.6892],\n",
    "        \"data\": {\n",
    "            \"name\": \"Statue of Liberty\",\n",
    "            \"poi_type\": \"Monument\",\n",
    "            \"rating\": 4.7,\n",
    "            \"description\": \"Iconic statue and symbol of freedom\"\n",
    "        }\n",
    "    }\n",
    "]\n",
    "\n",
    "for poi in pois:\n",
    "    m2.add_marker(coordinates=poi[\"coords\"], popup=\"Click for details\")\n",
    "    m2.add_popup(\n",
    "        template=template,\n",
    "        coordinates=poi[\"coords\"],\n",
    "        context=poi[\"data\"]\n",
    "    )\n",
    "\n",
    "m2"
   ]
  },
  {
   "cell_type": "markdown",
   "metadata": {},
   "source": [
    "## 3. Using Popup Objects\n",
    "\n",
    "You can also create reusable `Popup` objects with templates that can be added to multiple locations."
   ]
  },
  {
   "cell_type": "code",
   "execution_count": null,
   "metadata": {},
   "outputs": [],
   "source": [
    "m3 = Map(center=[2.3522, 48.8566], zoom=12)\n",
    "\n",
    "# Create a reusable popup template\n",
    "restaurant_popup = Popup(template=\"\"\"\n",
    "<div style=\"padding: 10px; min-width: 200px;\">\n",
    "    <h4 style=\"margin-top: 0; color: #d35400;\">\ud83c\udf7d\ufe0f {{ name }}</h4>\n",
    "    <p><strong>Cuisine:</strong> {{ cuisine }}</p>\n",
    "    <p><strong>Price Range:</strong> {{ price }}</p>\n",
    "    {% if speciality %}\n",
    "        <p><em>Try their {{ speciality }}!</em></p>\n",
    "    {% endif %}\n",
    "</div>\n",
    "\"\"\")\n",
    "\n",
    "restaurants = [\n",
    "    {\n",
    "        \"coords\": [2.3522, 48.8566],\n",
    "        \"data\": {\"name\": \"Le Petit Bistro\", \"cuisine\": \"French\", \"price\": \"\u20ac\u20ac\", \"speciality\": \"Coq au Vin\"}\n",
    "    },\n",
    "    {\n",
    "        \"coords\": [2.3364, 48.8606],\n",
    "        \"data\": {\"name\": \"Chez Marie\", \"cuisine\": \"French\", \"price\": \"\u20ac\u20ac\u20ac\", \"speciality\": \"Bouillabaisse\"}\n",
    "    }\n",
    "]\n",
    "\n",
    "for rest in restaurants:\n",
    "    m3.add_marker(coordinates=rest[\"coords\"], color=\"#d35400\")\n",
    "    m3.add_popup(\n",
    "        html=restaurant_popup,\n",
    "        coordinates=rest[\"coords\"],\n",
    "        context=rest[\"data\"]\n",
    "    )\n",
    "\n",
    "m3"
   ]
  },
  {
   "cell_type": "markdown",
   "metadata": {},
   "source": [
    "## 4. Floating Image Overlays\n",
    "\n",
    "Floating images are positioned at fixed locations on the map viewport. They're perfect for logos, legends, compass roses, or branding."
   ]
  },
  {
   "cell_type": "code",
   "execution_count": null,
   "metadata": {},
   "outputs": [],
   "source": [
    "m4 = Map(center=[-0.1276, 51.5074], zoom=12)\n",
    "\n",
    "# Add floating images at different positions\n",
    "# You can use any publicly accessible image URL\n",
    "m4.add_float_image(\n",
    "    \"https://upload.wikimedia.org/wikipedia/commons/thumb/8/83/Circle-icons-map.svg/120px-Circle-icons-map.svg.png\",\n",
    "    position=\"top-left\",\n",
    "    width=60\n",
    ")\n",
    "\n",
    "m4"
   ]
  },
  {
   "cell_type": "markdown",
   "metadata": {},
   "source": [
    "## 5. Multiple Floating Images with Different Positions\n",
    "\n",
    "You can add multiple floating images at various positions: `top-left`, `top-right`, `bottom-left`, or `bottom-right`."
   ]
  },
  {
   "cell_type": "code",
   "execution_count": null,
   "metadata": {},
   "outputs": [],
   "source": [
    "m5 = Map(center=[139.6917, 35.6895], zoom=11)\n",
    "\n",
    "# Add a compass-like icon in the top-right corner\n",
    "m5.add_float_image(\n",
    "    \"https://upload.wikimedia.org/wikipedia/commons/thumb/0/0a/Compass_rose_simple.svg/120px-Compass_rose_simple.svg.png\",\n",
    "    position=\"top-right\",\n",
    "    width=80\n",
    ")\n",
    "\n",
    "# Add a logo or watermark in the bottom-right corner\n",
    "m5.add_float_image(\n",
    "    \"https://upload.wikimedia.org/wikipedia/commons/thumb/5/5f/Mapbox_Logo.svg/120px-Mapbox_Logo.svg.png\",\n",
    "    position=\"bottom-right\",\n",
    "    width=100\n",
    ")\n",
    "\n",
    "m5"
   ]
  },
  {
   "cell_type": "markdown",
   "metadata": {},
   "source": [
    "## 6. Combining Popup Templates and Floating Images\n",
    "\n",
    "Here's a complete example that combines both features to create a branded, informative map."
   ]
  },
  {
   "cell_type": "code",
   "execution_count": null,
   "metadata": {},
   "outputs": [],
   "source": [
    "m6 = Map(center=[-122.3321, 47.6062], zoom=12, map_style=\"streets\")\n",
    "\n",
    "# Add a branded floating image\n",
    "m6.add_float_image(\n",
    "    \"https://upload.wikimedia.org/wikipedia/commons/thumb/8/83/Circle-icons-map.svg/120px-Circle-icons-map.svg.png\",\n",
    "    position=\"top-left\",\n",
    "    width=50\n",
    ")\n",
    "\n",
    "# Create a rich popup template for landmarks\n",
    "landmark_template = \"\"\"\n",
    "<div style=\"background: linear-gradient(135deg, #667eea 0%, #764ba2 100%); \n",
    "            color: white; padding: 15px; border-radius: 8px; \n",
    "            box-shadow: 0 4px 6px rgba(0,0,0,0.1);\">\n",
    "    <h3 style=\"margin: 0 0 10px 0;\">{{ name }}</h3>\n",
    "    <div style=\"background: rgba(255,255,255,0.2); padding: 10px; border-radius: 4px;\">\n",
    "        <p style=\"margin: 5px 0;\"><strong>\ud83d\udccd Location:</strong> {{ location }}</p>\n",
    "        <p style=\"margin: 5px 0;\"><strong>\ud83c\udfaf Category:</strong> {{ category }}</p>\n",
    "        {% if year_built %}\n",
    "            <p style=\"margin: 5px 0;\"><strong>\ud83d\udcc5 Built:</strong> {{ year_built }}</p>\n",
    "        {% endif %}\n",
    "    </div>\n",
    "    {% if fun_fact %}\n",
    "        <p style=\"margin-top: 10px; font-style: italic;\">\ud83d\udca1 {{ fun_fact }}</p>\n",
    "    {% endif %}\n",
    "</div>\n",
    "\"\"\"\n",
    "\n",
    "landmarks = [\n",
    "    {\n",
    "        \"coords\": [-122.3321, 47.6062],\n",
    "        \"data\": {\n",
    "            \"name\": \"Space Needle\",\n",
    "            \"location\": \"Seattle Center\",\n",
    "            \"category\": \"Observation Tower\",\n",
    "            \"year_built\": \"1962\",\n",
    "            \"fun_fact\": \"Built for the 1962 World's Fair, it's 605 feet tall!\"\n",
    "        }\n",
    "    },\n",
    "    {\n",
    "        \"coords\": [-122.3493, 47.6205],\n",
    "        \"data\": {\n",
    "            \"name\": \"Pike Place Market\",\n",
    "            \"location\": \"Downtown Seattle\",\n",
    "            \"category\": \"Public Market\",\n",
    "            \"year_built\": \"1907\",\n",
    "            \"fun_fact\": \"One of the oldest continuously operated public farmers' markets in the US\"\n",
    "        }\n",
    "    }\n",
    "]\n",
    "\n",
    "for landmark in landmarks:\n",
    "    m6.add_marker(coordinates=landmark[\"coords\"], color=\"#667eea\")\n",
    "    m6.add_popup(\n",
    "        template=landmark_template,\n",
    "        coordinates=landmark[\"coords\"],\n",
    "        context=landmark[\"data\"]\n",
    "    )\n",
    "\n",
    "m6"
   ]
  },
  {
   "cell_type": "markdown",
   "metadata": {},
   "source": [
    "## Summary\n",
    "\n",
    "This notebook demonstrated:\n",
    "\n",
    "1. **Basic popup templating** with Jinja2 syntax\n",
    "2. **Advanced templates** with conditional logic and HTML escaping for security\n",
    "3. **Reusable Popup objects** for consistent styling\n",
    "4. **Floating image overlays** for logos and branding\n",
    "5. **Multiple floating images** at different positions\n",
    "6. **Combined usage** of both features for professional, branded maps\n",
    "\n",
    "These features make it easy to create informative, visually appealing maps with dynamic content and custom branding."
   ]
  }
 ],
 "metadata": {
  "kernelspec": {
   "display_name": "Python 3",
   "language": "python",
   "name": "python3"
  },
  "language_info": {
   "codemirror_mode": {
    "name": "ipython",
    "version": 3
   },
   "file_extension": ".py",
   "mimetype": "text/x-python",
   "name": "python",
   "nbconvert_exporter": "python",
   "pygments_lexer": "ipython3",
   "version": "3.8.0"
  }
 },
 "nbformat": 4,
 "nbformat_minor": 4
}