{
 "cells": [
  {
   "cell_type": "code",
   "execution_count": null,
   "metadata": {},
   "outputs": [],
   "source": [
    "from maplibreum import Map\n",
    "\n",
    "# Create a map instance\n",
    "m = Map(center=[-74.5, 40], zoom=9, title=\"NYC Area\")\n",
    "\n",
    "# Add controls\n",
    "m.add_control(\"navigation\", \"top-left\")\n",
    "m.add_control(\"scale\", \"bottom-left\", options={\"maxWidth\":200,\"unit\":\"imperial\"})\n",
    "m.add_control(\"fullscreen\", \"top-right\")"
   ]
  },
  {
   "cell_type": "code",
   "execution_count": null,
   "metadata": {},
   "outputs": [],
   "source": [
    "# Add a GeoJSON layer\n",
    "geojson_source = {\n",
    "    \"type\": \"geojson\",\n",
    "    \"data\": {\n",
    "        \"type\": \"FeatureCollection\",\n",
    "        \"features\": [\n",
    "            {\n",
    "                \"type\": \"Feature\",\n",
    "                \"properties\": {\"description\": \"A nice place\"},\n",
    "                \"geometry\": {\n",
    "                    \"type\": \"Point\",\n",
    "                    \"coordinates\": [-74.5, 40]\n",
    "                }\n",
    "            }\n",
    "        ]\n",
    "    }\n",
    "}"
   ]
  },
  {
   "cell_type": "code",
   "execution_count": null,
   "metadata": {},
   "outputs": [],
   "source": [
    "layer_definition = {\n",
    "    \"id\": \"points\",\n",
    "    \"type\": \"circle\",\n",
    "    \"source\": \"points\",\n",
    "    \"paint\": {\n",
    "        \"circle-radius\": 6,\n",
    "        \"circle-color\": \"#007cbf\"\n",
    "    }\n",
    "}"
   ]
  },
  {
   "cell_type": "code",
   "execution_count": null,
   "metadata": {},
   "outputs": [],
   "source": [
    "m.add_layer(layer_definition, source=geojson_source)\n",
    "\n",
    "# Add a popup that shows up when user clicks the point\n",
    "popup_html = \"<strong>Hello!</strong><br>This is a popup.\"\n",
    "m.add_popup(html=popup_html, layer_id=\"points\")\n",
    "\n",
    "# Export to HTML\n",
    "m.save(\"sample_map.html\")\n",
    "\n",
    "# In a Jupyter notebook, just display:\n",
    "m"
   ]
  }
 ],
 "metadata": {
  "language_info": {
   "name": "python"
  }
 },
 "nbformat": 4,
 "nbformat_minor": 2
}
