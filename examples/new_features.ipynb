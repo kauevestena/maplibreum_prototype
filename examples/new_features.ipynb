{
 "cells": [
  {
   "cell_type": "code",
   "execution_count": null,
   "metadata": {},
   "outputs": [],
   "source": [
    "from maplibreum import Map, Marker, GeoJson\n",
    "\n",
    "# Create a map with a non-default style\n",
    "m = Map(map_style=\"streets\", center=[-74.5, 40], zoom=9, title=\"NYC Area\")\n",
    "\n",
    "# Add a marker\n",
    "marker = Marker(coordinates=[-74.5, 40], popup=\"A marker!\", color=\"red\")\n",
    "marker.add_to(m)\n",
    "\n",
    "# Add a GeoJSON layer\n",
    "geojson_data = {\n",
    "    \"type\": \"FeatureCollection\",\n",
    "    \"features\": [\n",
    "        {\n",
    "            \"type\": \"Feature\",\n",
    "            \"properties\": {},\n",
    "            \"geometry\": {\n",
    "                \"type\": \"Polygon\",\n",
    "                \"coordinates\": [\n",
    "                    [\n",
    "                        [-74.6, 40.1],\n",
    "                        [-74.6, 39.9],\n",
    "                        [-74.4, 39.9],\n",
    "                        [-74.4, 40.1],\n",
    "                        [-74.6, 40.1]\n",
    "                    ]\n",
    "                ]\n",
    "            }\n",
    "        }\n",
    "    ]\n",
    "}\n",
    "\n",
    "def style_function(feature):\n",
    "    return {\n",
    "        \"fillColor\": \"blue\",\n",
    "        \"fillOpacity\": 0.5,\n",
    "        \"color\": \"black\",\n",
    "        \"weight\": 1\n",
    "    }\n",
    "\n",
    "geojson_layer = GeoJson(geojson_data, style_function=style_function)\n",
    "geojson_layer.add_to(m)\n",
    "\n",
    "# Display the map\n",
    "m"
   ]
  }
 ],
 "metadata": {
  "language_info": {
   "name": "python"
  }
 },
 "nbformat": 4,
 "nbformat_minor": 2
}
