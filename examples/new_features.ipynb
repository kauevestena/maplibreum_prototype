{
 "cells": [
  {
   "cell_type": "code",
   "execution_count": null,
   "metadata": {},
   "outputs": [],
   "source": [
    "from maplibreum import Map\n",
    "\n",
    "# Create a map instance\n",
    "m = Map(center=[-74.5, 40], zoom=9, title=\"NYC Area\")\n",
    "\n",
    "# Add controls\n",
    "m.add_control(\"navigation\", \"top-left\")\n",
    "m.add_control(\"scale\", \"bottom-left\", options={\"maxWidth\":200,\"unit\":\"imperial\"})\n",
    "m.add_control(\"fullscreen\", \"top-right\")"
   ]
  },
  {
   "cell_type": "code",
   "execution_count": null,
   "metadata": {},
   "outputs": [],
   "source": [
    "# Add a GeoJSON source\n",
    "geojson_source = {\n",
    "    \"type\": \"geojson\",\n",
    "    \"data\": {\n",
    "        \"type\": \"FeatureCollection\",\n",
    "        \"features\": [\n",
    "            {\n",
    "                \"type\": \"Feature\",\n",
    "                \"properties\": {\"description\": \"A nice place\"},\n",
    "                \"geometry\": {\n",
    "                    \"type\": \"Point\",\n",
    "                    \"coordinates\": [-74.5, 40]\n",
    "                }\n",
    "            }\n",
    "        ]\n",
    "    }\n",
    "}\n",
    "m.add_source(\"points-source\", geojson_source)"
   ]
  },
  {
   "cell_type": "code",
   "execution_count": null,
   "metadata": {},
   "outputs": [],
   "source": [
    "# Add a circle layer\n",
    "m.add_circle_layer(\"points-layer\", \"points-source\")"
   ]
  },
  {
   "cell_type": "code",
   "execution_count": null,
   "metadata": {},
   "outputs": [],
   "source": [
    "# Add a popup that shows up when user clicks the point\n",
    "popup_html = \"<strong>Hello!</strong><br>This is a popup.\"\n",
    "m.add_popup(html=popup_html, layer_id=\"points-layer\")\n",
    "\n",
    "# Export to HTML\n",
    "m.save(\"new_features_map.html\")\n",
    "\n",
    "# In a Jupyter notebook, just display:\n",
    "m"
   ]
  }
 ],
 "metadata": {
  "language_info": {
   "name": "python"
  }
 },
 "nbformat": 4,
 "nbformat_minor": 2
}
